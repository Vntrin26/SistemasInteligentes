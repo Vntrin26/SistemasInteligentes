{
  "nbformat": 4,
  "nbformat_minor": 0,
  "metadata": {
    "kernelspec": {
      "display_name": "Python 3",
      "language": "python",
      "name": "python3"
    },
    "language_info": {
      "codemirror_mode": {
        "name": "ipython",
        "version": 3
      },
      "file_extension": ".py",
      "mimetype": "text/x-python",
      "name": "python",
      "nbconvert_exporter": "python",
      "pygments_lexer": "ipython3",
      "version": "3.7.6"
    },
    "colab": {
      "name": "MazeSolution.ipynb",
      "provenance": []
    }
  },
  "cells": [
    {
      "cell_type": "code",
      "metadata": {
        "id": "ep9seD6w4HG2",
        "colab_type": "code",
        "colab": {}
      },
      "source": [
        "import heapq\n",
        "import cv2\n",
        "import matplotlib.pyplot as plt\n",
        "import numpy as np"
      ],
      "execution_count": null,
      "outputs": []
    },
    {
      "cell_type": "markdown",
      "metadata": {
        "id": "EO32V90Tin0A",
        "colab_type": "text"
      },
      "source": [
        "El algoritmo de Djikstra encuentra el camino mas corto entre un nodo y todos los demás. Se puede truncar para solo encontrar el camino mas corto entre un nodo y otro.\n",
        "Primero se marcan todos los nodos como no visitados, y se asignan al conjunto no visitado. Se empieza en un nodo inicial y se marcan las distancias a otros nodos como \"infinito\" por el momento.\n",
        "Después, se marca la distancia tentativa de todos los posibles caminos a tomar. Una vez que se consideran todos los caminos posibles y se selecciona el que obtenga la distancia menor de todas las alternativas, se marca el nodo actual como visitado y nunca se vuelve a visitar. Si terminaste en el destino acaba el algoritmo, de lo contrario selecciona el nodo de menor distancia encontrado y se repite hasta llegar al destino o encontrar que es imposible llegar al destino"
      ]
    },
    {
      "cell_type": "code",
      "metadata": {
        "id": "hfpNIybd4HG6",
        "colab_type": "code",
        "colab": {}
      },
      "source": [
        "#Helper functions and classes\n",
        "#Esto define la clase de vertices para marcar las coordenadas; notese la propiedad de processed, que debe significar si ha sido visitado o no, y que esta empieza en falso\n",
        "class Vertex:\n",
        "    def __init__(self,x_coord,y_coord):\n",
        "        self.x=x_coord\n",
        "        self.y=y_coord\n",
        "        self.d=float('inf') #distance from source\n",
        "        self.parent_x=None\n",
        "        self.parent_y=None\n",
        "        self.processed=False\n",
        "        self.index_in_queue=None\n",
        "#Esta funcion encuentra los vertices vecinos no procesados para su procesamiento en el algoritmo. Obviamente omite los que ya fueron visitados\n",
        "#Return neighbor directly above, below, right, and left\n",
        "def get_neighbors(mat,r,c):\n",
        "    shape=mat.shape\n",
        "    neighbors=[]\n",
        "    #ensure neighbors are within image boundaries\n",
        "    if r > 0 and not mat[r-1][c].processed:\n",
        "         neighbors.append(mat[r-1][c])\n",
        "    if r < shape[0] - 1 and not mat[r+1][c].processed:\n",
        "            neighbors.append(mat[r+1][c])\n",
        "    if c > 0 and not mat[r][c-1].processed:\n",
        "        neighbors.append(mat[r][c-1])\n",
        "    if c < shape[1] - 1 and not mat[r][c+1].processed:\n",
        "            neighbors.append(mat[r][c+1])\n",
        "    return neighbors\n",
        "#este programa esta implementado con un minheap, entonces son necesarios bubble up y bubble down. Bubble up comparará los elementos y los cambiará de acuerdo a como deben estar en un minheap hasta llegar  a la raiz, y luego bubble down para cuando ya esté construido\n",
        "def bubble_up(queue, index):\n",
        "    if index <= 0:\n",
        "      #cuando llega al nodo raiz\n",
        "        return queue\n",
        "    p_index=(index-1)//2\n",
        "    #swap si el index actual es menor que el previo. Repetir hasta que se termine el proceso con el nodo checado. Solo termina si no es menor o se llegó a la raiz\n",
        "    if queue[index].d < queue[p_index].d:\n",
        "            queue[index], queue[p_index]=queue[p_index], queue[index]\n",
        "            queue[index].index_in_queue=index\n",
        "            queue[p_index].index_in_queue=p_index\n",
        "            quque = bubble_up(queue, p_index)\n",
        "    return queue\n",
        "    \n",
        "def bubble_down(queue, index):\n",
        "    length=len(queue)\n",
        "    #nodos hijo\n",
        "    lc_index=2*index+1\n",
        "    rc_index=lc_index+1\n",
        "    if lc_index >= length:\n",
        "        return queue\n",
        "    #bubble down checa ambos hijos para identificar el minimo y compararlo con el padre. El proceso se repite siempre que nodos del mismo nivel tengan hijos\n",
        "    if lc_index < length and rc_index >= length: #just left child\n",
        "        if queue[index].d > queue[lc_index].d:\n",
        "            queue[index], queue[lc_index]=queue[lc_index], queue[index]\n",
        "            queue[index].index_in_queue=index\n",
        "            queue[lc_index].index_in_queue=lc_index\n",
        "            queue = bubble_down(queue, lc_index)\n",
        "    else:\n",
        "        small = lc_index\n",
        "        if queue[lc_index].d > queue[rc_index].d:\n",
        "            small = rc_index\n",
        "        if queue[small].d < queue[index].d:\n",
        "            queue[index],queue[small]=queue[small],queue[index]\n",
        "            queue[index].index_in_queue=index\n",
        "            queue[small].index_in_queue=small\n",
        "            queue = bubble_down(queue, small)\n",
        "    return queue\n",
        "\n",
        "#calcular la distancia entre puntos\n",
        "def get_distance(img,u,v):\n",
        "    return 0.1 + (float(img[v][0])-float(img[u][0]))**2+(float(img[v][1])-float(img[u][1]))**2+(float(img[v][2])-float(img[u][2]))**2\n",
        "#este metodo colorea los puntos encontrados en el camino\n",
        "def drawPath(img,path, thickness=2):\n",
        "    '''path is a list of (x,y) tuples'''\n",
        "    x0,y0=path[0]\n",
        "    for vertex in path[1:]:\n",
        "        x1,y1=vertex\n",
        "        cv2.line(img,(x0,y0),(x1,y1),(255,0,0),thickness)\n",
        "        x0,y0=vertex"
      ],
      "execution_count": null,
      "outputs": []
    },
    {
      "cell_type": "code",
      "metadata": {
        "id": "NX1kOVw24HG9",
        "colab_type": "code",
        "colab": {}
      },
      "source": [
        "def find_shortest_path(img,src,dst):\n",
        "    pq=[] #min-heap priority queue\n",
        "    source_x=src[0]\n",
        "    source_y=src[1]\n",
        "    dest_x=dst[0]\n",
        "    dest_y=dst[1]\n",
        "    imagerows,imagecols=img.shape[0],img.shape[1]\n",
        "    matrix = np.full((imagerows, imagecols), None) #access by matrix[row][col]\n",
        "    for r in range(imagerows):\n",
        "        for c in range(imagecols):\n",
        "            matrix[r][c]=Vertex(c,r)\n",
        "            matrix[r][c].index_in_queue=len(pq)\n",
        "            pq.append(matrix[r][c])\n",
        "    matrix[source_y][source_x].d=0\n",
        "    #empieza el minheap de vertices\n",
        "    pq=bubble_up(pq, matrix[source_y][source_x].index_in_queue)\n",
        "    \n",
        "    #el proceso de sorteo y selección se termina hasta que no haya elementos en la minheap\n",
        "    while len(pq) > 0:\n",
        "      #marcar nodo como procesado\n",
        "        u=pq[0]\n",
        "        u.processed=True\n",
        "        pq[0]=pq[-1]\n",
        "        pq[0].index_in_queue=0\n",
        "        pq.pop()\n",
        "        pq=bubble_down(pq,0)\n",
        "        neighbors = get_neighbors(matrix,u.y,u.x)\n",
        "        for v in neighbors:\n",
        "          #sacar la distancia y compararla para el algoritmo de Djikstra\n",
        "            dist=get_distance(img,(u.y,u.x),(v.y,v.x))\n",
        "            if u.d + dist < v.d:\n",
        "                v.d = u.d+dist\n",
        "                v.parent_x=u.x\n",
        "                v.parent_y=u.y\n",
        "                idx=v.index_in_queue\n",
        "                pq=bubble_down(pq,idx)\n",
        "                pq=bubble_up(pq,idx)\n",
        "                          \n",
        "    path=[]\n",
        "    #añadir el punto a la lista de vertices del camino mas corto\n",
        "    iter_v=matrix[dest_y][dest_x]\n",
        "    path.append((dest_x,dest_y))\n",
        "    while(iter_v.y!=source_y or iter_v.x!=source_x):\n",
        "        path.append((iter_v.x,iter_v.y))\n",
        "        iter_v=matrix[iter_v.parent_y][iter_v.parent_x]\n",
        "\n",
        "        \n",
        "    path.append((source_x,source_y))\n",
        "    return path"
      ],
      "execution_count": null,
      "outputs": []
    },
    {
      "cell_type": "code",
      "metadata": {
        "id": "08xCYfoZ4HG_",
        "colab_type": "code",
        "colab": {
          "base_uri": "https://localhost:8080/",
          "height": 784
        },
        "outputId": "94b4f9ab-e78b-44fd-d76d-9b31359eceb7"
      },
      "source": [
        "img = cv2.imread('maze.png') # read the image \n",
        "cv2.circle(img,(5,220), 3, (255,0,0), -1) # add a circle at (5, 220)\n",
        "cv2.circle(img, (25,5), 3, (0,0,255), -1) # add a circle at (5,5)\n",
        "plt.figure(figsize=(7,7))\n",
        "plt.imshow(img)  \n",
        "plt.show()"
      ],
      "execution_count": null,
      "outputs": [
        {
          "output_type": "error",
          "ename": "TypeError",
          "evalue": "ignored",
          "traceback": [
            "\u001b[0;31m---------------------------------------------------------------------------\u001b[0m",
            "\u001b[0;31mTypeError\u001b[0m                                 Traceback (most recent call last)",
            "\u001b[0;32m<ipython-input-12-1101ee56f069>\u001b[0m in \u001b[0;36m<module>\u001b[0;34m()\u001b[0m\n\u001b[1;32m      3\u001b[0m \u001b[0mcv2\u001b[0m\u001b[0;34m.\u001b[0m\u001b[0mcircle\u001b[0m\u001b[0;34m(\u001b[0m\u001b[0mimg\u001b[0m\u001b[0;34m,\u001b[0m \u001b[0;34m(\u001b[0m\u001b[0;36m25\u001b[0m\u001b[0;34m,\u001b[0m\u001b[0;36m5\u001b[0m\u001b[0;34m)\u001b[0m\u001b[0;34m,\u001b[0m \u001b[0;36m3\u001b[0m\u001b[0;34m,\u001b[0m \u001b[0;34m(\u001b[0m\u001b[0;36m0\u001b[0m\u001b[0;34m,\u001b[0m\u001b[0;36m0\u001b[0m\u001b[0;34m,\u001b[0m\u001b[0;36m255\u001b[0m\u001b[0;34m)\u001b[0m\u001b[0;34m,\u001b[0m \u001b[0;34m-\u001b[0m\u001b[0;36m1\u001b[0m\u001b[0;34m)\u001b[0m \u001b[0;31m# add a circle at (5,5)\u001b[0m\u001b[0;34m\u001b[0m\u001b[0;34m\u001b[0m\u001b[0m\n\u001b[1;32m      4\u001b[0m \u001b[0mplt\u001b[0m\u001b[0;34m.\u001b[0m\u001b[0mfigure\u001b[0m\u001b[0;34m(\u001b[0m\u001b[0mfigsize\u001b[0m\u001b[0;34m=\u001b[0m\u001b[0;34m(\u001b[0m\u001b[0;36m7\u001b[0m\u001b[0;34m,\u001b[0m\u001b[0;36m7\u001b[0m\u001b[0;34m)\u001b[0m\u001b[0;34m)\u001b[0m\u001b[0;34m\u001b[0m\u001b[0;34m\u001b[0m\u001b[0m\n\u001b[0;32m----> 5\u001b[0;31m \u001b[0mplt\u001b[0m\u001b[0;34m.\u001b[0m\u001b[0mimshow\u001b[0m\u001b[0;34m(\u001b[0m\u001b[0mimg\u001b[0m\u001b[0;34m)\u001b[0m\u001b[0;34m\u001b[0m\u001b[0;34m\u001b[0m\u001b[0m\n\u001b[0m\u001b[1;32m      6\u001b[0m \u001b[0mplt\u001b[0m\u001b[0;34m.\u001b[0m\u001b[0mshow\u001b[0m\u001b[0;34m(\u001b[0m\u001b[0;34m)\u001b[0m\u001b[0;34m\u001b[0m\u001b[0;34m\u001b[0m\u001b[0m\n",
            "\u001b[0;32m/usr/local/lib/python3.6/dist-packages/matplotlib/pyplot.py\u001b[0m in \u001b[0;36mimshow\u001b[0;34m(X, cmap, norm, aspect, interpolation, alpha, vmin, vmax, origin, extent, shape, filternorm, filterrad, imlim, resample, url, data, **kwargs)\u001b[0m\n\u001b[1;32m   2649\u001b[0m         \u001b[0mfilternorm\u001b[0m\u001b[0;34m=\u001b[0m\u001b[0mfilternorm\u001b[0m\u001b[0;34m,\u001b[0m \u001b[0mfilterrad\u001b[0m\u001b[0;34m=\u001b[0m\u001b[0mfilterrad\u001b[0m\u001b[0;34m,\u001b[0m \u001b[0mimlim\u001b[0m\u001b[0;34m=\u001b[0m\u001b[0mimlim\u001b[0m\u001b[0;34m,\u001b[0m\u001b[0;34m\u001b[0m\u001b[0;34m\u001b[0m\u001b[0m\n\u001b[1;32m   2650\u001b[0m         resample=resample, url=url, **({\"data\": data} if data is not\n\u001b[0;32m-> 2651\u001b[0;31m         None else {}), **kwargs)\n\u001b[0m\u001b[1;32m   2652\u001b[0m     \u001b[0msci\u001b[0m\u001b[0;34m(\u001b[0m\u001b[0m__ret\u001b[0m\u001b[0;34m)\u001b[0m\u001b[0;34m\u001b[0m\u001b[0;34m\u001b[0m\u001b[0m\n\u001b[1;32m   2653\u001b[0m     \u001b[0;32mreturn\u001b[0m \u001b[0m__ret\u001b[0m\u001b[0;34m\u001b[0m\u001b[0;34m\u001b[0m\u001b[0m\n",
            "\u001b[0;32m/usr/local/lib/python3.6/dist-packages/matplotlib/__init__.py\u001b[0m in \u001b[0;36minner\u001b[0;34m(ax, data, *args, **kwargs)\u001b[0m\n\u001b[1;32m   1563\u001b[0m     \u001b[0;32mdef\u001b[0m \u001b[0minner\u001b[0m\u001b[0;34m(\u001b[0m\u001b[0max\u001b[0m\u001b[0;34m,\u001b[0m \u001b[0;34m*\u001b[0m\u001b[0margs\u001b[0m\u001b[0;34m,\u001b[0m \u001b[0mdata\u001b[0m\u001b[0;34m=\u001b[0m\u001b[0;32mNone\u001b[0m\u001b[0;34m,\u001b[0m \u001b[0;34m**\u001b[0m\u001b[0mkwargs\u001b[0m\u001b[0;34m)\u001b[0m\u001b[0;34m:\u001b[0m\u001b[0;34m\u001b[0m\u001b[0;34m\u001b[0m\u001b[0m\n\u001b[1;32m   1564\u001b[0m         \u001b[0;32mif\u001b[0m \u001b[0mdata\u001b[0m \u001b[0;32mis\u001b[0m \u001b[0;32mNone\u001b[0m\u001b[0;34m:\u001b[0m\u001b[0;34m\u001b[0m\u001b[0;34m\u001b[0m\u001b[0m\n\u001b[0;32m-> 1565\u001b[0;31m             \u001b[0;32mreturn\u001b[0m \u001b[0mfunc\u001b[0m\u001b[0;34m(\u001b[0m\u001b[0max\u001b[0m\u001b[0;34m,\u001b[0m \u001b[0;34m*\u001b[0m\u001b[0mmap\u001b[0m\u001b[0;34m(\u001b[0m\u001b[0msanitize_sequence\u001b[0m\u001b[0;34m,\u001b[0m \u001b[0margs\u001b[0m\u001b[0;34m)\u001b[0m\u001b[0;34m,\u001b[0m \u001b[0;34m**\u001b[0m\u001b[0mkwargs\u001b[0m\u001b[0;34m)\u001b[0m\u001b[0;34m\u001b[0m\u001b[0;34m\u001b[0m\u001b[0m\n\u001b[0m\u001b[1;32m   1566\u001b[0m \u001b[0;34m\u001b[0m\u001b[0m\n\u001b[1;32m   1567\u001b[0m         \u001b[0mbound\u001b[0m \u001b[0;34m=\u001b[0m \u001b[0mnew_sig\u001b[0m\u001b[0;34m.\u001b[0m\u001b[0mbind\u001b[0m\u001b[0;34m(\u001b[0m\u001b[0max\u001b[0m\u001b[0;34m,\u001b[0m \u001b[0;34m*\u001b[0m\u001b[0margs\u001b[0m\u001b[0;34m,\u001b[0m \u001b[0;34m**\u001b[0m\u001b[0mkwargs\u001b[0m\u001b[0;34m)\u001b[0m\u001b[0;34m\u001b[0m\u001b[0;34m\u001b[0m\u001b[0m\n",
            "\u001b[0;32m/usr/local/lib/python3.6/dist-packages/matplotlib/cbook/deprecation.py\u001b[0m in \u001b[0;36mwrapper\u001b[0;34m(*args, **kwargs)\u001b[0m\n\u001b[1;32m    356\u001b[0m                 \u001b[0;34mf\"%(removal)s.  If any parameter follows {name!r}, they \"\u001b[0m\u001b[0;34m\u001b[0m\u001b[0;34m\u001b[0m\u001b[0m\n\u001b[1;32m    357\u001b[0m                 f\"should be pass as keyword, not positionally.\")\n\u001b[0;32m--> 358\u001b[0;31m         \u001b[0;32mreturn\u001b[0m \u001b[0mfunc\u001b[0m\u001b[0;34m(\u001b[0m\u001b[0;34m*\u001b[0m\u001b[0margs\u001b[0m\u001b[0;34m,\u001b[0m \u001b[0;34m**\u001b[0m\u001b[0mkwargs\u001b[0m\u001b[0;34m)\u001b[0m\u001b[0;34m\u001b[0m\u001b[0;34m\u001b[0m\u001b[0m\n\u001b[0m\u001b[1;32m    359\u001b[0m \u001b[0;34m\u001b[0m\u001b[0m\n\u001b[1;32m    360\u001b[0m     \u001b[0;32mreturn\u001b[0m \u001b[0mwrapper\u001b[0m\u001b[0;34m\u001b[0m\u001b[0;34m\u001b[0m\u001b[0m\n",
            "\u001b[0;32m/usr/local/lib/python3.6/dist-packages/matplotlib/cbook/deprecation.py\u001b[0m in \u001b[0;36mwrapper\u001b[0;34m(*args, **kwargs)\u001b[0m\n\u001b[1;32m    356\u001b[0m                 \u001b[0;34mf\"%(removal)s.  If any parameter follows {name!r}, they \"\u001b[0m\u001b[0;34m\u001b[0m\u001b[0;34m\u001b[0m\u001b[0m\n\u001b[1;32m    357\u001b[0m                 f\"should be pass as keyword, not positionally.\")\n\u001b[0;32m--> 358\u001b[0;31m         \u001b[0;32mreturn\u001b[0m \u001b[0mfunc\u001b[0m\u001b[0;34m(\u001b[0m\u001b[0;34m*\u001b[0m\u001b[0margs\u001b[0m\u001b[0;34m,\u001b[0m \u001b[0;34m**\u001b[0m\u001b[0mkwargs\u001b[0m\u001b[0;34m)\u001b[0m\u001b[0;34m\u001b[0m\u001b[0;34m\u001b[0m\u001b[0m\n\u001b[0m\u001b[1;32m    359\u001b[0m \u001b[0;34m\u001b[0m\u001b[0m\n\u001b[1;32m    360\u001b[0m     \u001b[0;32mreturn\u001b[0m \u001b[0mwrapper\u001b[0m\u001b[0;34m\u001b[0m\u001b[0;34m\u001b[0m\u001b[0m\n",
            "\u001b[0;32m/usr/local/lib/python3.6/dist-packages/matplotlib/axes/_axes.py\u001b[0m in \u001b[0;36mimshow\u001b[0;34m(self, X, cmap, norm, aspect, interpolation, alpha, vmin, vmax, origin, extent, shape, filternorm, filterrad, imlim, resample, url, **kwargs)\u001b[0m\n\u001b[1;32m   5624\u001b[0m                               resample=resample, **kwargs)\n\u001b[1;32m   5625\u001b[0m \u001b[0;34m\u001b[0m\u001b[0m\n\u001b[0;32m-> 5626\u001b[0;31m         \u001b[0mim\u001b[0m\u001b[0;34m.\u001b[0m\u001b[0mset_data\u001b[0m\u001b[0;34m(\u001b[0m\u001b[0mX\u001b[0m\u001b[0;34m)\u001b[0m\u001b[0;34m\u001b[0m\u001b[0;34m\u001b[0m\u001b[0m\n\u001b[0m\u001b[1;32m   5627\u001b[0m         \u001b[0mim\u001b[0m\u001b[0;34m.\u001b[0m\u001b[0mset_alpha\u001b[0m\u001b[0;34m(\u001b[0m\u001b[0malpha\u001b[0m\u001b[0;34m)\u001b[0m\u001b[0;34m\u001b[0m\u001b[0;34m\u001b[0m\u001b[0m\n\u001b[1;32m   5628\u001b[0m         \u001b[0;32mif\u001b[0m \u001b[0mim\u001b[0m\u001b[0;34m.\u001b[0m\u001b[0mget_clip_path\u001b[0m\u001b[0;34m(\u001b[0m\u001b[0;34m)\u001b[0m \u001b[0;32mis\u001b[0m \u001b[0;32mNone\u001b[0m\u001b[0;34m:\u001b[0m\u001b[0;34m\u001b[0m\u001b[0;34m\u001b[0m\u001b[0m\n",
            "\u001b[0;32m/usr/local/lib/python3.6/dist-packages/matplotlib/image.py\u001b[0m in \u001b[0;36mset_data\u001b[0;34m(self, A)\u001b[0m\n\u001b[1;32m    692\u001b[0m                 not np.can_cast(self._A.dtype, float, \"same_kind\")):\n\u001b[1;32m    693\u001b[0m             raise TypeError(\"Image data of dtype {} cannot be converted to \"\n\u001b[0;32m--> 694\u001b[0;31m                             \"float\".format(self._A.dtype))\n\u001b[0m\u001b[1;32m    695\u001b[0m \u001b[0;34m\u001b[0m\u001b[0m\n\u001b[1;32m    696\u001b[0m         if not (self._A.ndim == 2\n",
            "\u001b[0;31mTypeError\u001b[0m: Image data of dtype object cannot be converted to float"
          ]
        },
        {
          "output_type": "display_data",
          "data": {
            "image/png": "[encoded data removed]",
            "text/plain": [
              "<Figure size 504x504 with 1 Axes>"
            ]
          },
          "metadata": {
            "tags": [],
            "needs_background": "light"
          }
        }
      ]
    },
    {
      "cell_type": "code",
      "metadata": {
        "id": "SDhFdv8U4HHC",
        "colab_type": "code",
        "colab": {}
      },
      "source": [
        "img = cv2.imread('maze.png') # read image\n",
        "cv2.imwrite('maze-initial.png', img)\n",
        "p = find_shortest_path(img, (25,5), (5,220))\n",
        "drawPath(img,p)\n",
        "cv2.imwrite('maze-solution.png', img)\n",
        "plt.figure(figsize=(7,7))\n",
        "plt.imshow(img) # show the image on the screen \n",
        "plt.show()"
      ],
      "execution_count": null,
      "outputs": []
    },
    {
      "cell_type": "code",
      "metadata": {
        "id": "1w9jRaRw4HHG",
        "colab_type": "code",
        "colab": {}
      },
      "source": [
        "img = cv2.imread('maze5.jpg') # read the image \n",
        "cv2.circle(img,(5,320), 3, (255,0,0), -1) # add a circle at (5, 220)\n",
        "cv2.circle(img, (300,300), 3, (0,0,255), -1) # add a circle at (5,5)\n",
        "plt.figure(figsize=(7,7))\n",
        "plt.imshow(img)  \n",
        "plt.show()"
      ],
      "execution_count": null,
      "outputs": []
    },
    {
      "cell_type": "code",
      "metadata": {
        "id": "crWWcx484HHJ",
        "colab_type": "code",
        "colab": {}
      },
      "source": [
        "img = cv2.imread('maze5.jpg') # read image\n",
        "cv2.imwrite('maze-initial5.jpg', img)\n",
        "p = find_shortest_path(img, (300,300), (5,320))\n",
        "drawPath(img,p)\n",
        "cv2.imwrite('maze-solution5.jpg', img)\n",
        "plt.figure(figsize=(7,7))\n",
        "plt.imshow(img) # show the image on the screen \n",
        "plt.show()"
      ],
      "execution_count": null,
      "outputs": []
    },
    {
      "cell_type": "code",
      "metadata": {
        "id": "9w_OrecX4HHN",
        "colab_type": "code",
        "colab": {}
      },
      "source": [
        ""
      ],
      "execution_count": null,
      "outputs": []
    },
    {
      "cell_type": "code",
      "metadata": {
        "id": "1mtCIurg4HHR",
        "colab_type": "code",
        "colab": {}
      },
      "source": [
        ""
      ],
      "execution_count": null,
      "outputs": []
    }
  ]
}